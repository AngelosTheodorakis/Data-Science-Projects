{
 "cells": [
  {
   "cell_type": "markdown",
   "metadata": {},
   "source": [
    "# Lottery probabilities"
   ]
  },
  {
   "cell_type": "markdown",
   "metadata": {},
   "source": [
    "We will focus on the 6/49 lottery (Lotto) and build functions to answer the following questions:\n",
    "\n",
    "* What is the probability of winning the big prize with a single or more tickets ticket?\n",
    "* What is the probability of having exactly five (or four, or three, or two) winning numbers on a single ticket?\n",
    "* What is the probability of having at least five (or four, or three, or two) winning numbers on a single ticket?\n",
    "* Are some numbers more likely to appear based on historical data? \n",
    "\n",
    "We will collect historical data coming from the national 6/49 lottery game in Canada, with drawings dating from 1982 to 2018 to answer some more questions later."
   ]
  },
  {
   "cell_type": "markdown",
   "metadata": {},
   "source": [
    "In order to find the probabilities we want, we will write 2 functions:\n",
    "* A function that calculates factorials.\n",
    "* A function that calculates combinations."
   ]
  },
  {
   "cell_type": "code",
   "execution_count": 1,
   "metadata": {},
   "outputs": [],
   "source": [
    "\n",
    "def factorial(number):\n",
    "    f=1\n",
    "    for x in range(1, (number+1)):\n",
    "        f = x*f\n",
    "    return f\n",
    "\n",
    "\n",
    "def combinations(n,k):\n",
    "    c = factorial(n)/(factorial(k)*factorial(n-k))\n",
    "    return c\n",
    "    \n"
   ]
  },
  {
   "cell_type": "markdown",
   "metadata": {},
   "source": [
    "To answer our question \"What is the probability of winning the big prize with a single ticket?\" we will write a function named one_ticket_probability. It will take in a list of six unique numbers and print the probability of winning."
   ]
  },
  {
   "cell_type": "code",
   "execution_count": 2,
   "metadata": {},
   "outputs": [],
   "source": [
    "def one_ticket_probability(lis):\n",
    "    pa = combinations(49,6)\n",
    "    pr = 1/pa\n",
    "    perc = pr*100\n",
    "    print('Your chances to win with the numbers {} are {:.6f}%.\\nThis means, you have a 1 in {:,} chances to win.'.format(lis, perc, int(pa)))"
   ]
  },
  {
   "cell_type": "code",
   "execution_count": 3,
   "metadata": {
    "scrolled": false
   },
   "outputs": [
    {
     "name": "stdout",
     "output_type": "stream",
     "text": [
      "Your chances to win with the numbers [2, 3, 4, 5, 6, 7] are 0.000007%.\n",
      "This means, you have a 1 in 13,983,816 chances to win.\n"
     ]
    }
   ],
   "source": [
    "one_ticket_probability([2,3,4,5,6,7])"
   ]
  },
  {
   "cell_type": "markdown",
   "metadata": {},
   "source": [
    "Next, we will also be able to compare our ticket against the historical lottery data in Canada and determine whether we would have ever won by now.\n",
    "The data set can be downloaded from Kaggle [here]('https://www.kaggle.com/datascienceai/lottery-dataset'):"
   ]
  },
  {
   "cell_type": "code",
   "execution_count": 4,
   "metadata": {},
   "outputs": [],
   "source": [
    "import pandas as pd \n",
    "import numpy as np\n",
    "import matplotlib.pyplot as plt"
   ]
  },
  {
   "cell_type": "code",
   "execution_count": 5,
   "metadata": {},
   "outputs": [],
   "source": [
    "data = pd.read_csv('https://raw.githubusercontent.com/AngelosTheodorakis/Data_Analysis_Projects/master/Lotto%20Probabilities/Lotto_Canada.csv')"
   ]
  },
  {
   "cell_type": "code",
   "execution_count": 6,
   "metadata": {},
   "outputs": [
    {
     "data": {
      "text/plain": [
       "(3665, 11)"
      ]
     },
     "execution_count": 6,
     "metadata": {},
     "output_type": "execute_result"
    }
   ],
   "source": [
    "data.shape"
   ]
  },
  {
   "cell_type": "code",
   "execution_count": 7,
   "metadata": {},
   "outputs": [
    {
     "data": {
      "text/html": [
       "<div>\n",
       "<style scoped>\n",
       "    .dataframe tbody tr th:only-of-type {\n",
       "        vertical-align: middle;\n",
       "    }\n",
       "\n",
       "    .dataframe tbody tr th {\n",
       "        vertical-align: top;\n",
       "    }\n",
       "\n",
       "    .dataframe thead th {\n",
       "        text-align: right;\n",
       "    }\n",
       "</style>\n",
       "<table border=\"1\" class=\"dataframe\">\n",
       "  <thead>\n",
       "    <tr style=\"text-align: right;\">\n",
       "      <th></th>\n",
       "      <th>PRODUCT</th>\n",
       "      <th>DRAW NUMBER</th>\n",
       "      <th>SEQUENCE NUMBER</th>\n",
       "      <th>DRAW DATE</th>\n",
       "      <th>NUMBER DRAWN 1</th>\n",
       "      <th>NUMBER DRAWN 2</th>\n",
       "      <th>NUMBER DRAWN 3</th>\n",
       "      <th>NUMBER DRAWN 4</th>\n",
       "      <th>NUMBER DRAWN 5</th>\n",
       "      <th>NUMBER DRAWN 6</th>\n",
       "      <th>BONUS NUMBER</th>\n",
       "    </tr>\n",
       "  </thead>\n",
       "  <tbody>\n",
       "    <tr>\n",
       "      <th>0</th>\n",
       "      <td>649</td>\n",
       "      <td>1</td>\n",
       "      <td>0</td>\n",
       "      <td>6/12/1982</td>\n",
       "      <td>3</td>\n",
       "      <td>11</td>\n",
       "      <td>12</td>\n",
       "      <td>14</td>\n",
       "      <td>41</td>\n",
       "      <td>43</td>\n",
       "      <td>13</td>\n",
       "    </tr>\n",
       "    <tr>\n",
       "      <th>1</th>\n",
       "      <td>649</td>\n",
       "      <td>2</td>\n",
       "      <td>0</td>\n",
       "      <td>6/19/1982</td>\n",
       "      <td>8</td>\n",
       "      <td>33</td>\n",
       "      <td>36</td>\n",
       "      <td>37</td>\n",
       "      <td>39</td>\n",
       "      <td>41</td>\n",
       "      <td>9</td>\n",
       "    </tr>\n",
       "    <tr>\n",
       "      <th>2</th>\n",
       "      <td>649</td>\n",
       "      <td>3</td>\n",
       "      <td>0</td>\n",
       "      <td>6/26/1982</td>\n",
       "      <td>1</td>\n",
       "      <td>6</td>\n",
       "      <td>23</td>\n",
       "      <td>24</td>\n",
       "      <td>27</td>\n",
       "      <td>39</td>\n",
       "      <td>34</td>\n",
       "    </tr>\n",
       "  </tbody>\n",
       "</table>\n",
       "</div>"
      ],
      "text/plain": [
       "   PRODUCT  DRAW NUMBER  SEQUENCE NUMBER  DRAW DATE  NUMBER DRAWN 1  \\\n",
       "0      649            1                0  6/12/1982               3   \n",
       "1      649            2                0  6/19/1982               8   \n",
       "2      649            3                0  6/26/1982               1   \n",
       "\n",
       "   NUMBER DRAWN 2  NUMBER DRAWN 3  NUMBER DRAWN 4  NUMBER DRAWN 5  \\\n",
       "0              11              12              14              41   \n",
       "1              33              36              37              39   \n",
       "2               6              23              24              27   \n",
       "\n",
       "   NUMBER DRAWN 6  BONUS NUMBER  \n",
       "0              43            13  \n",
       "1              41             9  \n",
       "2              39            34  "
      ]
     },
     "execution_count": 7,
     "metadata": {},
     "output_type": "execute_result"
    }
   ],
   "source": [
    "data.head(3)"
   ]
  },
  {
   "cell_type": "code",
   "execution_count": 8,
   "metadata": {
    "scrolled": true
   },
   "outputs": [
    {
     "data": {
      "text/html": [
       "<div>\n",
       "<style scoped>\n",
       "    .dataframe tbody tr th:only-of-type {\n",
       "        vertical-align: middle;\n",
       "    }\n",
       "\n",
       "    .dataframe tbody tr th {\n",
       "        vertical-align: top;\n",
       "    }\n",
       "\n",
       "    .dataframe thead th {\n",
       "        text-align: right;\n",
       "    }\n",
       "</style>\n",
       "<table border=\"1\" class=\"dataframe\">\n",
       "  <thead>\n",
       "    <tr style=\"text-align: right;\">\n",
       "      <th></th>\n",
       "      <th>PRODUCT</th>\n",
       "      <th>DRAW NUMBER</th>\n",
       "      <th>SEQUENCE NUMBER</th>\n",
       "      <th>DRAW DATE</th>\n",
       "      <th>NUMBER DRAWN 1</th>\n",
       "      <th>NUMBER DRAWN 2</th>\n",
       "      <th>NUMBER DRAWN 3</th>\n",
       "      <th>NUMBER DRAWN 4</th>\n",
       "      <th>NUMBER DRAWN 5</th>\n",
       "      <th>NUMBER DRAWN 6</th>\n",
       "      <th>BONUS NUMBER</th>\n",
       "    </tr>\n",
       "  </thead>\n",
       "  <tbody>\n",
       "    <tr>\n",
       "      <th>3662</th>\n",
       "      <td>649</td>\n",
       "      <td>3589</td>\n",
       "      <td>0</td>\n",
       "      <td>6/13/2018</td>\n",
       "      <td>6</td>\n",
       "      <td>22</td>\n",
       "      <td>24</td>\n",
       "      <td>31</td>\n",
       "      <td>32</td>\n",
       "      <td>34</td>\n",
       "      <td>16</td>\n",
       "    </tr>\n",
       "    <tr>\n",
       "      <th>3663</th>\n",
       "      <td>649</td>\n",
       "      <td>3590</td>\n",
       "      <td>0</td>\n",
       "      <td>6/16/2018</td>\n",
       "      <td>2</td>\n",
       "      <td>15</td>\n",
       "      <td>21</td>\n",
       "      <td>31</td>\n",
       "      <td>38</td>\n",
       "      <td>49</td>\n",
       "      <td>8</td>\n",
       "    </tr>\n",
       "    <tr>\n",
       "      <th>3664</th>\n",
       "      <td>649</td>\n",
       "      <td>3591</td>\n",
       "      <td>0</td>\n",
       "      <td>6/20/2018</td>\n",
       "      <td>14</td>\n",
       "      <td>24</td>\n",
       "      <td>31</td>\n",
       "      <td>35</td>\n",
       "      <td>37</td>\n",
       "      <td>48</td>\n",
       "      <td>17</td>\n",
       "    </tr>\n",
       "  </tbody>\n",
       "</table>\n",
       "</div>"
      ],
      "text/plain": [
       "      PRODUCT  DRAW NUMBER  SEQUENCE NUMBER  DRAW DATE  NUMBER DRAWN 1  \\\n",
       "3662      649         3589                0  6/13/2018               6   \n",
       "3663      649         3590                0  6/16/2018               2   \n",
       "3664      649         3591                0  6/20/2018              14   \n",
       "\n",
       "      NUMBER DRAWN 2  NUMBER DRAWN 3  NUMBER DRAWN 4  NUMBER DRAWN 5  \\\n",
       "3662              22              24              31              32   \n",
       "3663              15              21              31              38   \n",
       "3664              24              31              35              37   \n",
       "\n",
       "      NUMBER DRAWN 6  BONUS NUMBER  \n",
       "3662              34            16  \n",
       "3663              49             8  \n",
       "3664              48            17  "
      ]
     },
     "execution_count": 8,
     "metadata": {},
     "output_type": "execute_result"
    }
   ],
   "source": [
    "data.tail(3)"
   ]
  },
  {
   "cell_type": "markdown",
   "metadata": {},
   "source": [
    "We want to write a function that prints:\n",
    "* The number of times the combination selected occurred in the Canada data set.\n",
    "* The probability of winning the big prize in the next drawing with that combination.\n",
    "<br> \n",
    "<br>In order to do this, we want to first make a function, that will extract all the numbers of a drawing. The function will be called *extract numbers*. We will save the results in a dictionary called winning numbers."
   ]
  },
  {
   "cell_type": "code",
   "execution_count": 9,
   "metadata": {},
   "outputs": [],
   "source": [
    "def extract_numbers(row):\n",
    "    l=[]\n",
    "    for x in range(1,7):\n",
    "        d = data['NUMBER DRAWN {}'.format(x)].iloc[row]\n",
    "        l.append(d)\n",
    "        \n",
    "    return l\n",
    "    "
   ]
  },
  {
   "cell_type": "code",
   "execution_count": 10,
   "metadata": {},
   "outputs": [],
   "source": [
    "winning_numbers = {}\n",
    "for x in range(0,len(data)):\n",
    "    extract_numbers(x)\n",
    "    winning_numbers[x] = extract_numbers(x)\n"
   ]
  },
  {
   "cell_type": "code",
   "execution_count": 11,
   "metadata": {
    "scrolled": true
   },
   "outputs": [
    {
     "name": "stdout",
     "output_type": "stream",
     "text": [
      "[3, 11, 12, 14, 41, 43]\n",
      "[8, 33, 36, 37, 39, 41]\n",
      "[1, 6, 23, 24, 27, 39]\n"
     ]
    }
   ],
   "source": [
    "for x in range(3):\n",
    "    print(winning_numbers[x]) # test our function"
   ]
  },
  {
   "cell_type": "markdown",
   "metadata": {},
   "source": [
    "The following function takes in two inputs: a list containing numbers from a user and a Series containing sets with the winning numbers."
   ]
  },
  {
   "cell_type": "code",
   "execution_count": 12,
   "metadata": {},
   "outputs": [],
   "source": [
    "def check_historical_occurrence(l, w = winning_numbers):\n",
    "    win = []\n",
    "    for x in range(0,len(data)):\n",
    "        check = (set(winning_numbers[x]) == set(l)) # Boolean\n",
    "        win.append(check)\n",
    "    if sum(win) == 0:\n",
    "        print('The combination {} has never occured.'.format(l))\n",
    "        \n",
    "    else:\n",
    "        print('The number of times combination {} has occured in the past is {}.'.format(l, sum(win)))\n",
    "    "
   ]
  },
  {
   "cell_type": "code",
   "execution_count": 13,
   "metadata": {},
   "outputs": [
    {
     "name": "stdout",
     "output_type": "stream",
     "text": [
      "The number of times combination [36, 33, 37, 39, 8, 41] has occured in the past is 1.\n"
     ]
    }
   ],
   "source": [
    "test_input_1 = [36, 33, 37, 39, 8, 41]\n",
    "check_historical_occurrence(test_input_1)"
   ]
  },
  {
   "cell_type": "code",
   "execution_count": 14,
   "metadata": {},
   "outputs": [
    {
     "name": "stdout",
     "output_type": "stream",
     "text": [
      "The combination [3, 4, 6, 22, 10, 44] has never occured.\n"
     ]
    }
   ],
   "source": [
    "test_input_2 = [3, 4, 6, 22, 10, 44]\n",
    "check_historical_occurrence(test_input_2)"
   ]
  },
  {
   "cell_type": "code",
   "execution_count": 15,
   "metadata": {
    "scrolled": false
   },
   "outputs": [
    {
     "name": "stdout",
     "output_type": "stream",
     "text": [
      "The number of times combination [39, 37, 36, 8, 41, 33] has occured in the past is 1.\n"
     ]
    }
   ],
   "source": [
    "test_input_3 = [39,37,36,8,41,33]\n",
    "check_historical_occurrence(test_input_3)"
   ]
  },
  {
   "cell_type": "markdown",
   "metadata": {},
   "source": [
    "It will be interesting to see how many occurences each number had over the years, in Canada lottery. We will put all the numbers from the drawings in a single list and then we will count how many times these numbers occured."
   ]
  },
  {
   "cell_type": "code",
   "execution_count": 16,
   "metadata": {},
   "outputs": [],
   "source": [
    "winning_numbers_list = []\n",
    "for x in range(3665):\n",
    "    winning_numbers_list.append(winning_numbers[x])"
   ]
  },
  {
   "cell_type": "code",
   "execution_count": 17,
   "metadata": {},
   "outputs": [],
   "source": [
    "from itertools import chain\n",
    "winning_numbers_list = list(chain.from_iterable(winning_numbers_list))"
   ]
  },
  {
   "cell_type": "code",
   "execution_count": 18,
   "metadata": {},
   "outputs": [
    {
     "data": {
      "text/plain": [
       "True"
      ]
     },
     "execution_count": 18,
     "metadata": {},
     "output_type": "execute_result"
    }
   ],
   "source": [
    "len(winning_numbers_list) == len(data)*6 # check our list length"
   ]
  },
  {
   "cell_type": "markdown",
   "metadata": {},
   "source": [
    "The following dictionary will have each number as an index followed by the number of times this number occured over the years:"
   ]
  },
  {
   "cell_type": "code",
   "execution_count": 19,
   "metadata": {},
   "outputs": [],
   "source": [
    "occurances = {}\n",
    "for x in range(1,50):\n",
    "    occurances[x] = (winning_numbers_list.count(x))"
   ]
  },
  {
   "cell_type": "markdown",
   "metadata": {},
   "source": [
    "Let's find the maximum and minimum occurences of a number and plot all the occurences."
   ]
  },
  {
   "cell_type": "code",
   "execution_count": 20,
   "metadata": {
    "scrolled": false
   },
   "outputs": [
    {
     "name": "stdout",
     "output_type": "stream",
     "text": [
      "31\n",
      "499\n"
     ]
    }
   ],
   "source": [
    "print(max(occurances, key=occurances.get))\n",
    "print(occurances[max(occurances, key=occurances.get)])"
   ]
  },
  {
   "cell_type": "code",
   "execution_count": 21,
   "metadata": {
    "scrolled": true
   },
   "outputs": [
    {
     "name": "stdout",
     "output_type": "stream",
     "text": [
      "14\n",
      "402\n"
     ]
    }
   ],
   "source": [
    "print(min(occurances, key=occurances.get))\n",
    "print(occurances[min(occurances, key=occurances.get)])"
   ]
  },
  {
   "cell_type": "code",
   "execution_count": 22,
   "metadata": {
    "scrolled": true
   },
   "outputs": [
    {
     "data": {
      "image/png": "[encoded data removed]",
      "text/plain": [
       "<Figure size 432x288 with 1 Axes>"
      ]
     },
     "metadata": {
      "needs_background": "light"
     },
     "output_type": "display_data"
    }
   ],
   "source": [
    "import matplotlib.pylab as plt\n",
    "\n",
    "lists = occurances.items() # return a list of tuples\n",
    "x, y = zip(*lists) # unpack a list of pairs into two tuples\n",
    "\n",
    "plt.plot(x, y, marker=\"o\")\n",
    "plt.ylim(400,500)\n",
    "plt.xticks(range(1,50,2),rotation=90)\n",
    "plt.show()"
   ]
  },
  {
   "cell_type": "markdown",
   "metadata": {},
   "source": [
    "It is interesting to see that number 14 has minimum (402) and number 31 has maximum occurances (499). <br>This is almost 100 more occurances!<br>\n",
    "Now let's sort the numbers by their frequency:"
   ]
  },
  {
   "cell_type": "code",
   "execution_count": 23,
   "metadata": {
    "scrolled": true
   },
   "outputs": [
    {
     "name": "stdout",
     "output_type": "stream",
     "text": [
      "31 499\n",
      "40 494\n",
      "45 489\n",
      "34 484\n",
      "20 479\n",
      "43 479\n",
      "47 477\n",
      "46 475\n",
      "27 471\n",
      "38 468\n",
      "7 461\n",
      "44 461\n",
      "41 460\n",
      "33 459\n",
      "36 458\n",
      "9 455\n",
      "23 455\n",
      "4 453\n",
      "21 453\n",
      "12 452\n",
      "32 450\n",
      "42 449\n",
      "49 448\n",
      "8 446\n",
      "26 446\n",
      "24 444\n",
      "29 444\n",
      "3 443\n",
      "17 442\n",
      "30 442\n",
      "48 441\n",
      "19 440\n",
      "37 440\n",
      "39 440\n",
      "2 437\n",
      "22 436\n",
      "16 435\n",
      "35 432\n",
      "6 429\n",
      "10 429\n",
      "28 429\n",
      "5 428\n",
      "15 427\n",
      "1 423\n",
      "11 423\n",
      "13 422\n",
      "25 422\n",
      "18 419\n",
      "14 402\n"
     ]
    }
   ],
   "source": [
    "occurances_sorted_keys = sorted(occurances, key=occurances.get, reverse=True)\n",
    "for r in occurances_sorted_keys:\n",
    "    print(r, occurances[r])\n",
    "    \n"
   ]
  },
  {
   "cell_type": "markdown",
   "metadata": {},
   "source": [
    "We will take the top 6 numbers with most occurances and play with these numbers to see what happens."
   ]
  },
  {
   "cell_type": "code",
   "execution_count": 24,
   "metadata": {},
   "outputs": [
    {
     "data": {
      "text/plain": [
       "[31, 40, 45, 34, 20, 43]"
      ]
     },
     "execution_count": 24,
     "metadata": {},
     "output_type": "execute_result"
    }
   ],
   "source": [
    "occurances_sorted_keys[:6]"
   ]
  },
  {
   "cell_type": "code",
   "execution_count": 25,
   "metadata": {},
   "outputs": [
    {
     "name": "stdout",
     "output_type": "stream",
     "text": [
      "The combination [31, 40, 45, 34, 20, 43] has never occured.\n"
     ]
    }
   ],
   "source": [
    "test_input_most_occurances = [31, 40, 45, 34, 20, 43]\n",
    "check_historical_occurrence(test_input_most_occurances)"
   ]
  },
  {
   "cell_type": "markdown",
   "metadata": {},
   "source": [
    "So even knowing which numbers are the most common, their combination never occured."
   ]
  },
  {
   "cell_type": "markdown",
   "metadata": {},
   "source": [
    "The following function will allow users to calculate the probability of winning for any number of different tickets."
   ]
  },
  {
   "cell_type": "code",
   "execution_count": 26,
   "metadata": {},
   "outputs": [],
   "source": [
    "def multi_ticket_probability(x):\n",
    "    possible_outcomes = combinations(49,6)\n",
    "    probability = x/possible_outcomes\n",
    "    percentage = probability*100\n",
    "    combinations_rounded = round(possible_outcomes / x)\n",
    "    print('Your probability of winning with {:,} tickets is {:.6f}%.\\nThis means that you have 1 in {:,} chances of winning!'.format(int(x),percentage,combinations_rounded))\n",
    "    "
   ]
  },
  {
   "cell_type": "code",
   "execution_count": 27,
   "metadata": {},
   "outputs": [
    {
     "name": "stdout",
     "output_type": "stream",
     "text": [
      "Your probability of winning with 100 tickets is 0.000715%.\n",
      "This means that you have 1 in 139,838 chances of winning!\n"
     ]
    }
   ],
   "source": [
    "multi_ticket_probability(100)"
   ]
  },
  {
   "cell_type": "code",
   "execution_count": 28,
   "metadata": {
    "scrolled": true
   },
   "outputs": [
    {
     "name": "stdout",
     "output_type": "stream",
     "text": [
      "Your probability of winning with 1 tickets is 0.000007%.\n",
      "This means that you have 1 in 13,983,816 chances of winning!\n",
      "-------------------------------------------------------------\n",
      "Your probability of winning with 10 tickets is 0.000072%.\n",
      "This means that you have 1 in 1,398,382 chances of winning!\n",
      "-------------------------------------------------------------\n",
      "Your probability of winning with 100 tickets is 0.000715%.\n",
      "This means that you have 1 in 139,838 chances of winning!\n",
      "-------------------------------------------------------------\n",
      "Your probability of winning with 10,000 tickets is 0.071511%.\n",
      "This means that you have 1 in 1,398 chances of winning!\n",
      "-------------------------------------------------------------\n",
      "Your probability of winning with 1,000,000 tickets is 7.151124%.\n",
      "This means that you have 1 in 14 chances of winning!\n",
      "-------------------------------------------------------------\n",
      "Your probability of winning with 6,991,908 tickets is 50.000000%.\n",
      "This means that you have 1 in 2 chances of winning!\n",
      "-------------------------------------------------------------\n",
      "Your probability of winning with 13,983,816 tickets is 100.000000%.\n",
      "This means that you have 1 in 1 chances of winning!\n",
      "-------------------------------------------------------------\n"
     ]
    }
   ],
   "source": [
    "test_inputs = [1, 10, 100, 10000, 1000000, 13983816/2, 13983816]\n",
    "\n",
    "for test_input in test_inputs:\n",
    "    multi_ticket_probability(test_input)\n",
    "    print('-------------------------------------------------------------') # output delimiter"
   ]
  },
  {
   "cell_type": "markdown",
   "metadata": {},
   "source": [
    "Finally, we're going to write one more function to calculate probabilities for exactly two, three, four, or five winning numbers."
   ]
  },
  {
   "cell_type": "code",
   "execution_count": 29,
   "metadata": {},
   "outputs": [],
   "source": [
    "def probability_less_6(n_winning_numbers):\n",
    "    \n",
    "    n_combinations_ticket = combinations(6, n_winning_numbers) \n",
    "    n_combinations_remaining = combinations(43, 6 - n_winning_numbers)\n",
    "    successful_outcomes = n_combinations_ticket * n_combinations_remaining\n",
    "    \n",
    "    n_combinations_total = combinations(49, 6)    \n",
    "    probability = successful_outcomes / n_combinations_total\n",
    "    \n",
    "    probability_percentage = probability * 100    \n",
    "    combinations_simplified = round(n_combinations_total/successful_outcomes)    \n",
    "    print('''Your chances of having {} winning numbers with this ticket are {:.6f}%.\n",
    "In other words, you have a 1 in {:,} chances to win.'''.format(n_winning_numbers, probability_percentage,\n",
    "                                                               int(combinations_simplified)))"
   ]
  },
  {
   "cell_type": "code",
   "execution_count": 30,
   "metadata": {
    "scrolled": true
   },
   "outputs": [
    {
     "name": "stdout",
     "output_type": "stream",
     "text": [
      "Your chances of having 2 winning numbers with this ticket are 13.237803%.\n",
      "In other words, you have a 1 in 8 chances to win.\n",
      "-------------------------------------------------------------\n",
      "Your chances of having 3 winning numbers with this ticket are 1.765040%.\n",
      "In other words, you have a 1 in 57 chances to win.\n",
      "-------------------------------------------------------------\n",
      "Your chances of having 4 winning numbers with this ticket are 0.096862%.\n",
      "In other words, you have a 1 in 1,032 chances to win.\n",
      "-------------------------------------------------------------\n",
      "Your chances of having 5 winning numbers with this ticket are 0.001845%.\n",
      "In other words, you have a 1 in 54,201 chances to win.\n",
      "-------------------------------------------------------------\n"
     ]
    }
   ],
   "source": [
    "for x in range(2,6):\n",
    "    probability_less_6(x)\n",
    "    print('-------------------------------------------------------------') # output delimiter   "
   ]
  },
  {
   "cell_type": "markdown",
   "metadata": {},
   "source": [
    "We can also calculate the probability of having **at least** two,three,four,or five numbers. We will alter the previous function to return just the probability and then sum the probabilities in another function."
   ]
  },
  {
   "cell_type": "code",
   "execution_count": 31,
   "metadata": {},
   "outputs": [],
   "source": [
    "def probability_exactly(n_winning_numbers):\n",
    "    \n",
    "    n_combinations_ticket = combinations(6, n_winning_numbers) \n",
    "    n_combinations_remaining = combinations(43, 6 - n_winning_numbers)\n",
    "    successful_outcomes = n_combinations_ticket * n_combinations_remaining\n",
    "    \n",
    "    n_combinations_total = combinations(49, 6)    \n",
    "    probability = successful_outcomes / n_combinations_total\n",
    "    \n",
    "    probability_percentage = probability * 100    \n",
    "    combinations_simplified = round(n_combinations_total/successful_outcomes)    \n",
    "    return  probability\n",
    "\n",
    "def probability_least(n_winning_numbers):\n",
    "    prob = 0\n",
    "    for x in range(n_winning_numbers,7):\n",
    "        prob = prob + probability_exactly(x)\n",
    "    prob_per = prob * 100\n",
    "    print('Your chances of having at least {} winning numbers are {:.7f}%'.format(n_winning_numbers, prob_per))"
   ]
  },
  {
   "cell_type": "code",
   "execution_count": 32,
   "metadata": {
    "scrolled": true
   },
   "outputs": [
    {
     "name": "stdout",
     "output_type": "stream",
     "text": [
      "Your chances of having at least 2 winning numbers are 15.1015574%\n",
      "-------------------------------------------------------------\n",
      "Your chances of having at least 3 winning numbers are 1.8637545%\n",
      "-------------------------------------------------------------\n",
      "Your chances of having at least 4 winning numbers are 0.0987141%\n",
      "-------------------------------------------------------------\n",
      "Your chances of having at least 5 winning numbers are 0.0018521%\n",
      "-------------------------------------------------------------\n"
     ]
    }
   ],
   "source": [
    "for x in range(2,6):\n",
    "    probability_least(x)\n",
    "    print('-------------------------------------------------------------') # output delimiter"
   ]
  },
  {
   "cell_type": "markdown",
   "metadata": {},
   "source": [
    "# Summary\n",
    "\n",
    "We have succesfully answered the following questions:\n",
    "* What is the probability of winning the big prize with a single or more tickets ticket?\n",
    "* What is the probability of having exactly five (or four, or three, or two) winning numbers on a single ticket?\n",
    "* What is the probability of having at least five (or four, or three, or two) winning numbers on a single ticket?\n",
    "* Are some numbers more likely to appear based on historical data? "
   ]
  }
 ],
 "metadata": {
  "kernelspec": {
   "display_name": "Python 3",
   "language": "python",
   "name": "python3"
  },
  "language_info": {
   "codemirror_mode": {
    "name": "ipython",
    "version": 3
   },
   "file_extension": ".py",
   "mimetype": "text/x-python",
   "name": "python",
   "nbconvert_exporter": "python",
   "pygments_lexer": "ipython3",
   "version": "3.7.4"
  }
 },
 "nbformat": 4,
 "nbformat_minor": 2
}
