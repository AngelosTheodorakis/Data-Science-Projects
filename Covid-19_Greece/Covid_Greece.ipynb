{
 "cells": [
  {
   "cell_type": "markdown",
   "metadata": {},
   "source": [
    "First, we will import our libraries"
   ]
  },
  {
   "cell_type": "code",
   "execution_count": 28,
   "metadata": {},
   "outputs": [
    {
     "data": {
      "text/html": [
       "        <script type=\"text/javascript\">\n",
       "        window.PlotlyConfig = {MathJaxConfig: 'local'};\n",
       "        if (window.MathJax) {MathJax.Hub.Config({SVG: {font: \"STIX-Web\"}});}\n",
       "        if (typeof require !== 'undefined') {\n",
       "        require.undef(\"plotly\");\n",
       "        requirejs.config({\n",
       "            paths: {\n",
       "                'plotly': ['https://cdn.plot.ly/plotly-latest.min']\n",
       "            }\n",
       "        });\n",
       "        require(['plotly'], function(Plotly) {\n",
       "            window._Plotly = Plotly;\n",
       "        });\n",
       "        }\n",
       "        </script>\n",
       "        "
      ]
     },
     "metadata": {},
     "output_type": "display_data"
    }
   ],
   "source": [
    "import pandas as pd\n",
    "import re\n",
    "import numpy as np\n",
    "import os\n",
    "import matplotlib.pyplot as plt\n",
    "import json\n",
    "import chart_studio.plotly as py\n",
    "from plotly.offline import download_plotlyjs, init_notebook_mode, plot, iplot\n",
    "init_notebook_mode(connected=True)\n",
    "import plotly.tools as tls"
   ]
  },
  {
   "cell_type": "markdown",
   "metadata": {},
   "source": [
    "Now we will downlad from [this](http://geodata.gov.gr/en/dataset/28121643-d977-48eb-a8ca-a6fac6b4af6d) site, the json file that contains the geographic boundaries of the 13 Regions of Greece."
   ]
  },
  {
   "cell_type": "code",
   "execution_count": 29,
   "metadata": {},
   "outputs": [],
   "source": [
    "from urllib.request import urlopen\n",
    "import json\n",
    "with urlopen('http://geodata.gov.gr/geoserver/wfs/?service=WFS&version=1.0.0&request=GetFeature&typeName=geodata.gov.gr:d7f50467-e5ef-49ac-a7ce-15df3e2ed738&outputFormat=application/json&srsName=epsg:4326') as response:\n",
    "    greek_states = json.load(response)\n"
   ]
  },
  {
   "cell_type": "code",
   "execution_count": 30,
   "metadata": {},
   "outputs": [
    {
     "name": "stdout",
     "output_type": "stream",
     "text": [
      "dict_keys(['type', 'id', 'geometry', 'geometry_name', 'properties'])\n",
      "dict_keys(['PER'])\n",
      "Π. ΑΝΑΤΟΛΙΚΗΣ ΜΑΚΕΔΟΝΙΑΣ - ΘΡΑΚΗΣ\n"
     ]
    }
   ],
   "source": [
    "print(greek_states['features'][0].keys()) # Check our file\n",
    "print(greek_states['features'][0]['properties'].keys())\n",
    "print(greek_states['features'][0]['properties']['PER'])"
   ]
  },
  {
   "cell_type": "markdown",
   "metadata": {},
   "source": [
    "We will continue and download [the Covid cases by region](https://en.wikipedia.org/wiki/COVID-19_pandemic_in_Greece) data from Wikipedia. Below is the procedure I followed:\n",
    "<br>\n",
    "\n",
    "- First, I scanned the page for DataFrames with the help of pandas.<br>\n",
    "- Then, I found the amount of DataFrames.<br>\n",
    "- I checked that I had the correct DataFrame.<br>\n",
    "\n",
    "If you prefer, you can also download the DataFrame as csv.<br>\n",
    "Now we are ready to read and clean our data "
   ]
  },
  {
   "cell_type": "code",
   "execution_count": 31,
   "metadata": {},
   "outputs": [
    {
     "data": {
      "text/plain": [
       "6"
      ]
     },
     "execution_count": 31,
     "metadata": {},
     "output_type": "execute_result"
    }
   ],
   "source": [
    "Covid_Greece_Wiki = pd.read_html('https://en.wikipedia.org/wiki/COVID-19_pandemic_in_Greece')\n",
    "len(Covid_Greece_Wiki)"
   ]
  },
  {
   "cell_type": "code",
   "execution_count": 32,
   "metadata": {},
   "outputs": [
    {
     "data": {
      "text/html": [
       "<div>\n",
       "<style scoped>\n",
       "    .dataframe tbody tr th:only-of-type {\n",
       "        vertical-align: middle;\n",
       "    }\n",
       "\n",
       "    .dataframe tbody tr th {\n",
       "        vertical-align: top;\n",
       "    }\n",
       "\n",
       "    .dataframe thead th {\n",
       "        text-align: right;\n",
       "    }\n",
       "</style>\n",
       "<table border=\"1\" class=\"dataframe\">\n",
       "  <thead>\n",
       "    <tr style=\"text-align: right;\">\n",
       "      <th></th>\n",
       "      <th>Region</th>\n",
       "      <th>Cases</th>\n",
       "      <th>Deaths</th>\n",
       "      <th>Recov.</th>\n",
       "      <th>Active</th>\n",
       "      <th>Tests</th>\n",
       "    </tr>\n",
       "  </thead>\n",
       "  <tbody>\n",
       "    <tr>\n",
       "      <th>0</th>\n",
       "      <td>Attica</td>\n",
       "      <td>5579</td>\n",
       "      <td>127</td>\n",
       "      <td>NaN</td>\n",
       "      <td>NaN</td>\n",
       "      <td>NaN</td>\n",
       "    </tr>\n",
       "    <tr>\n",
       "      <th>1</th>\n",
       "      <td>Central Macedonia</td>\n",
       "      <td>2759</td>\n",
       "      <td>72</td>\n",
       "      <td>NaN</td>\n",
       "      <td>NaN</td>\n",
       "      <td>NaN</td>\n",
       "    </tr>\n",
       "    <tr>\n",
       "      <th>2</th>\n",
       "      <td>Peloponnese</td>\n",
       "      <td>339</td>\n",
       "      <td>1</td>\n",
       "      <td>NaN</td>\n",
       "      <td>NaN</td>\n",
       "      <td>NaN</td>\n",
       "    </tr>\n",
       "    <tr>\n",
       "      <th>3</th>\n",
       "      <td>Thessaly</td>\n",
       "      <td>603</td>\n",
       "      <td>6</td>\n",
       "      <td>NaN</td>\n",
       "      <td>NaN</td>\n",
       "      <td>NaN</td>\n",
       "    </tr>\n",
       "    <tr>\n",
       "      <th>4</th>\n",
       "      <td>Western Macedonia</td>\n",
       "      <td>444</td>\n",
       "      <td>34</td>\n",
       "      <td>NaN</td>\n",
       "      <td>NaN</td>\n",
       "      <td>NaN</td>\n",
       "    </tr>\n",
       "    <tr>\n",
       "      <th>5</th>\n",
       "      <td>Eastern Macedonia and Thrace</td>\n",
       "      <td>812</td>\n",
       "      <td>32</td>\n",
       "      <td>NaN</td>\n",
       "      <td>NaN</td>\n",
       "      <td>NaN</td>\n",
       "    </tr>\n",
       "    <tr>\n",
       "      <th>6</th>\n",
       "      <td>Western Greece</td>\n",
       "      <td>190</td>\n",
       "      <td>8</td>\n",
       "      <td>NaN</td>\n",
       "      <td>NaN</td>\n",
       "      <td>NaN</td>\n",
       "    </tr>\n",
       "    <tr>\n",
       "      <th>7</th>\n",
       "      <td>Central Greece</td>\n",
       "      <td>285</td>\n",
       "      <td>0</td>\n",
       "      <td>NaN</td>\n",
       "      <td>NaN</td>\n",
       "      <td>NaN</td>\n",
       "    </tr>\n",
       "    <tr>\n",
       "      <th>8</th>\n",
       "      <td>Crete</td>\n",
       "      <td>465</td>\n",
       "      <td>2</td>\n",
       "      <td>NaN</td>\n",
       "      <td>NaN</td>\n",
       "      <td>NaN</td>\n",
       "    </tr>\n",
       "    <tr>\n",
       "      <th>9</th>\n",
       "      <td>Ionian Islands</td>\n",
       "      <td>275</td>\n",
       "      <td>3</td>\n",
       "      <td>NaN</td>\n",
       "      <td>NaN</td>\n",
       "      <td>NaN</td>\n",
       "    </tr>\n",
       "    <tr>\n",
       "      <th>10</th>\n",
       "      <td>Epirus</td>\n",
       "      <td>142</td>\n",
       "      <td>2</td>\n",
       "      <td>NaN</td>\n",
       "      <td>NaN</td>\n",
       "      <td>NaN</td>\n",
       "    </tr>\n",
       "    <tr>\n",
       "      <th>11</th>\n",
       "      <td>South Aegean</td>\n",
       "      <td>475</td>\n",
       "      <td>0</td>\n",
       "      <td>NaN</td>\n",
       "      <td>NaN</td>\n",
       "      <td>NaN</td>\n",
       "    </tr>\n",
       "    <tr>\n",
       "      <th>12</th>\n",
       "      <td>North Aegean</td>\n",
       "      <td>290</td>\n",
       "      <td>9</td>\n",
       "      <td>NaN</td>\n",
       "      <td>NaN</td>\n",
       "      <td>NaN</td>\n",
       "    </tr>\n",
       "    <tr>\n",
       "      <th>13</th>\n",
       "      <td>Mount Athos</td>\n",
       "      <td>4</td>\n",
       "      <td>0</td>\n",
       "      <td>NaN</td>\n",
       "      <td>NaN</td>\n",
       "      <td>NaN</td>\n",
       "    </tr>\n",
       "    <tr>\n",
       "      <th>14</th>\n",
       "      <td>Non residents</td>\n",
       "      <td>1060</td>\n",
       "      <td>1</td>\n",
       "      <td>NaN</td>\n",
       "      <td>NaN</td>\n",
       "      <td>NaN</td>\n",
       "    </tr>\n",
       "    <tr>\n",
       "      <th>15</th>\n",
       "      <td>No Location Provided</td>\n",
       "      <td>1016</td>\n",
       "      <td>33</td>\n",
       "      <td>NaN</td>\n",
       "      <td>NaN</td>\n",
       "      <td>NaN</td>\n",
       "    </tr>\n",
       "    <tr>\n",
       "      <th>16</th>\n",
       "      <td>NaN</td>\n",
       "      <td>20921</td>\n",
       "      <td>424</td>\n",
       "      <td>NaN</td>\n",
       "      <td>NaN</td>\n",
       "      <td>NaN</td>\n",
       "    </tr>\n",
       "  </tbody>\n",
       "</table>\n",
       "</div>"
      ],
      "text/plain": [
       "                          Region  Cases  Deaths  Recov.  Active  Tests\n",
       "0                         Attica   5579     127     NaN     NaN    NaN\n",
       "1              Central Macedonia   2759      72     NaN     NaN    NaN\n",
       "2                    Peloponnese    339       1     NaN     NaN    NaN\n",
       "3                       Thessaly    603       6     NaN     NaN    NaN\n",
       "4              Western Macedonia    444      34     NaN     NaN    NaN\n",
       "5   Eastern Macedonia and Thrace    812      32     NaN     NaN    NaN\n",
       "6                 Western Greece    190       8     NaN     NaN    NaN\n",
       "7                 Central Greece    285       0     NaN     NaN    NaN\n",
       "8                          Crete    465       2     NaN     NaN    NaN\n",
       "9                 Ionian Islands    275       3     NaN     NaN    NaN\n",
       "10                        Epirus    142       2     NaN     NaN    NaN\n",
       "11                  South Aegean    475       0     NaN     NaN    NaN\n",
       "12                  North Aegean    290       9     NaN     NaN    NaN\n",
       "13                   Mount Athos      4       0     NaN     NaN    NaN\n",
       "14                 Non residents   1060       1     NaN     NaN    NaN\n",
       "15          No Location Provided   1016      33     NaN     NaN    NaN\n",
       "16                           NaN  20921     424     NaN     NaN    NaN"
      ]
     },
     "execution_count": 32,
     "metadata": {},
     "output_type": "execute_result"
    }
   ],
   "source": [
    "Covid_Greece_Wiki[4]"
   ]
  },
  {
   "cell_type": "code",
   "execution_count": 33,
   "metadata": {},
   "outputs": [],
   "source": [
    "data = Covid_Greece_Wiki[4].iloc[:-4] # Remove the last rows\n",
    "data = data.loc[:,'Region':'Deaths'] # Remove the unnecessary columns\n"
   ]
  },
  {
   "cell_type": "markdown",
   "metadata": {},
   "source": [
    "We will replace the greek with the english names of the regions in greek_states, so the names will be the same in both files."
   ]
  },
  {
   "cell_type": "code",
   "execution_count": 34,
   "metadata": {},
   "outputs": [
    {
     "name": "stdout",
     "output_type": "stream",
     "text": [
      "Π. ΑΝΑΤΟΛΙΚΗΣ ΜΑΚΕΔΟΝΙΑΣ - ΘΡΑΚΗΣ\n",
      "Π. ΚΕΝΤΡΙΚΗΣ ΜΑΚΕΔΟΝΙΑΣ\n",
      "Π. ΔΥΤΙΚΗΣ ΜΑΚΕΔΟΝΙΑΣ\n",
      "Π. ΗΠΕΙΡΟΥ\n",
      "Π. ΘΕΣΣΑΛΙΑΣ\n",
      "Π. ΒΟΡΕΙΟΥ ΑΙΓΑΙΟΥ\n",
      "Π. ΝΟΤΙΟΥ ΑΙΓΑΙΟΥ\n",
      "Π. ΣΤΕΡΕΑΣ ΕΛΛΑΔΑΣ\n",
      "Π. ΔΥΤΙΚΗΣ ΕΛΛΑΔΑΣ\n",
      "Π. ΠΕΛΟΠΟΝΝΗΣΟΥ\n",
      "Π. ΙΟΝΙΩΝ ΝΗΣΩΝ\n",
      "Π. ΚΡΗΤΗΣ\n",
      "Π. ΑΤΤΙΚΗΣ\n"
     ]
    }
   ],
   "source": [
    "for x in range(0,13):\n",
    "    print(greek_states['features'][x]['properties']['PER'])"
   ]
  },
  {
   "cell_type": "code",
   "execution_count": 35,
   "metadata": {
    "scrolled": true
   },
   "outputs": [
    {
     "name": "stdout",
     "output_type": "stream",
     "text": [
      "Eastern Macedonia and Thrace\n",
      "Central Macedonia\n",
      "Western Macedonia\n",
      "Epirus\n",
      "Thessaly\n",
      "North Aegean\n",
      "South Aegean\n",
      "Central Greece\n",
      "Western Greece\n",
      "Peloponnese\n",
      "Ionian Islands\n",
      "Crete\n",
      "Attica\n"
     ]
    }
   ],
   "source": [
    "lis = ['Eastern Macedonia and Thrace','Central Macedonia','Western Macedonia',\n",
    "       'Epirus','Thessaly','North Aegean','South Aegean','Central Greece',\n",
    "       'Western Greece','Peloponnese','Ionian Islands','Crete','Attica'] \n",
    "\n",
    "\n",
    "for x in range(0,13):\n",
    "    greek_states['features'][x]['properties']['PER'] = lis[x]\n",
    "\n",
    "for x in range(0,13):\n",
    "    print(greek_states['features'][x]['properties']['PER'])\n"
   ]
  },
  {
   "cell_type": "markdown",
   "metadata": {},
   "source": [
    "There are some settings we need to change in order to plot the map in a browser. Here we use Firefox."
   ]
  },
  {
   "cell_type": "code",
   "execution_count": 36,
   "metadata": {},
   "outputs": [
    {
     "data": {
      "text/plain": [
       "True"
      ]
     },
     "execution_count": 36,
     "metadata": {},
     "output_type": "execute_result"
    }
   ],
   "source": [
    "import plotly.express as px\n",
    "import plotly.io as pio\n",
    "pio.renderers.default = 'firefox'\n",
    "import webbrowser    \n",
    "urL='https://www.google.com'\n",
    "firefox_path=\"C:/Program Files/Mozilla Firefox/firefox.exe\"\n",
    "webbrowser.register('firefox', None,webbrowser.BackgroundBrowser(firefox_path))\n",
    "webbrowser.get('firefox').open_new_tab(urL)"
   ]
  },
  {
   "cell_type": "markdown",
   "metadata": {},
   "source": [
    "We will create a dictionary that has all the regions and the unique ID for each region, so we can later use the choropleth function."
   ]
  },
  {
   "cell_type": "code",
   "execution_count": 37,
   "metadata": {},
   "outputs": [
    {
     "data": {
      "text/plain": [
       "{'Eastern Macedonia and Thrace': 'd7f50467-e5ef-49ac-a7ce-15df3e2ed738.0',\n",
       " 'Central Macedonia': 'd7f50467-e5ef-49ac-a7ce-15df3e2ed738.1',\n",
       " 'Western Macedonia': 'd7f50467-e5ef-49ac-a7ce-15df3e2ed738.2',\n",
       " 'Epirus': 'd7f50467-e5ef-49ac-a7ce-15df3e2ed738.3',\n",
       " 'Thessaly': 'd7f50467-e5ef-49ac-a7ce-15df3e2ed738.4',\n",
       " 'North Aegean': 'd7f50467-e5ef-49ac-a7ce-15df3e2ed738.5',\n",
       " 'South Aegean': 'd7f50467-e5ef-49ac-a7ce-15df3e2ed738.6',\n",
       " 'Central Greece': 'd7f50467-e5ef-49ac-a7ce-15df3e2ed738.7',\n",
       " 'Western Greece': 'd7f50467-e5ef-49ac-a7ce-15df3e2ed738.8',\n",
       " 'Peloponnese': 'd7f50467-e5ef-49ac-a7ce-15df3e2ed738.9',\n",
       " 'Ionian Islands': 'd7f50467-e5ef-49ac-a7ce-15df3e2ed738.10',\n",
       " 'Crete': 'd7f50467-e5ef-49ac-a7ce-15df3e2ed738.11',\n",
       " 'Attica': 'd7f50467-e5ef-49ac-a7ce-15df3e2ed738.12'}"
      ]
     },
     "execution_count": 37,
     "metadata": {},
     "output_type": "execute_result"
    }
   ],
   "source": [
    "state_id_map = {}\n",
    "for x in greek_states['features']:\n",
    "    state_id_map[x['properties']['PER']] = x['id'] \n",
    "\n",
    "state_id_map"
   ]
  },
  {
   "cell_type": "markdown",
   "metadata": {},
   "source": [
    "Now we make a new column with the ID of each region."
   ]
  },
  {
   "cell_type": "code",
   "execution_count": 38,
   "metadata": {},
   "outputs": [],
   "source": [
    "data['id'] = data['Region'].apply(lambda x: state_id_map[x])"
   ]
  },
  {
   "cell_type": "markdown",
   "metadata": {},
   "source": [
    "We are now ready to plot the maps! I used the continuous colour scale for better contrast, even if there are no negative values. Also I couldn't upload large files on GitHub, so I downloaded the images from my browser just to show them here.<br>\n",
    "The first map is the number of Covid cases."
   ]
  },
  {
   "cell_type": "code",
   "execution_count": 39,
   "metadata": {
    "scrolled": true
   },
   "outputs": [],
   "source": [
    "fig = px.choropleth(data,locations='id',\n",
    "                    geojson=greek_states,\n",
    "                    color='Cases',\n",
    "                    hover_name = ('Region'),\n",
    "                    hover_data = ['Cases','Deaths'],\n",
    "                    color_continuous_scale=px.colors.diverging.RdBu,\n",
    "                    color_continuous_midpoint=0)\n",
    "fig.update_geos(fitbounds='locations',visible=False)\n",
    "fig.show()\n"
   ]
  },
  {
   "cell_type": "markdown",
   "metadata": {},
   "source": [
    "![newplot](newplot.png)"
   ]
  },
  {
   "cell_type": "markdown",
   "metadata": {},
   "source": [
    "As we can see from the above map, it seems that Attica and Central Macedonia have in absolute numbers, more Covid cases. But what about the analogy of cases with the population for each region? To find this, we must first find the overall population for each region and then combine the datasets. The population data can be found [here](https://www.citypopulation.de/en/greece/nuts/admin/)."
   ]
  },
  {
   "cell_type": "code",
   "execution_count": 40,
   "metadata": {},
   "outputs": [
    {
     "data": {
      "text/plain": [
       "2"
      ]
     },
     "execution_count": 40,
     "metadata": {},
     "output_type": "execute_result"
    }
   ],
   "source": [
    "Greek_population = pd.read_html('https://www.citypopulation.de/en/greece/nuts/admin/') # Read the data\n",
    "len(Greek_population)"
   ]
  },
  {
   "cell_type": "code",
   "execution_count": 41,
   "metadata": {},
   "outputs": [],
   "source": [
    "datanew = Greek_population[0] # Save our Dataframe in a new variable."
   ]
  },
  {
   "cell_type": "code",
   "execution_count": 42,
   "metadata": {},
   "outputs": [
    {
     "data": {
      "text/plain": [
       "Index(['Name', 'Native', 'Status', 'PopulationEstimate2002-01-01',\n",
       "       'PopulationEstimate2007-01-01', 'PopulationEstimate2012-01-01',\n",
       "       'PopulationEstimate2017-01-01', 'PopulationEstimate2019-01-01',\n",
       "       'Unnamed: 8'],\n",
       "      dtype='object')"
      ]
     },
     "execution_count": 42,
     "metadata": {},
     "output_type": "execute_result"
    }
   ],
   "source": [
    "datanew.columns # Check our columns"
   ]
  },
  {
   "cell_type": "code",
   "execution_count": 43,
   "metadata": {},
   "outputs": [
    {
     "data": {
      "text/html": [
       "<div>\n",
       "<style scoped>\n",
       "    .dataframe tbody tr th:only-of-type {\n",
       "        vertical-align: middle;\n",
       "    }\n",
       "\n",
       "    .dataframe tbody tr th {\n",
       "        vertical-align: top;\n",
       "    }\n",
       "\n",
       "    .dataframe thead th {\n",
       "        text-align: right;\n",
       "    }\n",
       "</style>\n",
       "<table border=\"1\" class=\"dataframe\">\n",
       "  <thead>\n",
       "    <tr style=\"text-align: right;\">\n",
       "      <th></th>\n",
       "      <th>Name</th>\n",
       "      <th>Native</th>\n",
       "      <th>Status</th>\n",
       "      <th>PopulationEstimate2002-01-01</th>\n",
       "      <th>PopulationEstimate2007-01-01</th>\n",
       "      <th>PopulationEstimate2012-01-01</th>\n",
       "      <th>PopulationEstimate2017-01-01</th>\n",
       "      <th>PopulationEstimate2019-01-01</th>\n",
       "      <th>Unnamed: 8</th>\n",
       "    </tr>\n",
       "  </thead>\n",
       "  <tbody>\n",
       "    <tr>\n",
       "      <th>0</th>\n",
       "      <td>Anatolikí Makedonía kai Thrakí [Eastern Macedo...</td>\n",
       "      <td>Ανατολική Μακεδονία και Θράκη</td>\n",
       "      <td>NUTS 2 Region</td>\n",
       "      <td>589489</td>\n",
       "      <td>602965</td>\n",
       "      <td>612074</td>\n",
       "      <td>602799</td>\n",
       "      <td>599723</td>\n",
       "      <td>→</td>\n",
       "    </tr>\n",
       "    <tr>\n",
       "      <th>1</th>\n",
       "      <td>Nomós Drámas [Drama]</td>\n",
       "      <td>Νομός Δράμας</td>\n",
       "      <td>NUTS 3 Region</td>\n",
       "      <td>96234</td>\n",
       "      <td>97460</td>\n",
       "      <td>98571</td>\n",
       "      <td>96836</td>\n",
       "      <td>96845</td>\n",
       "      <td>→</td>\n",
       "    </tr>\n",
       "    <tr>\n",
       "      <th>2</th>\n",
       "      <td>Nomós Évrou [Evros]</td>\n",
       "      <td>Νομός Έβρου</td>\n",
       "      <td>NUTS 3 Region</td>\n",
       "      <td>144134</td>\n",
       "      <td>146507</td>\n",
       "      <td>147996</td>\n",
       "      <td>147709</td>\n",
       "      <td>147190</td>\n",
       "      <td>→</td>\n",
       "    </tr>\n",
       "    <tr>\n",
       "      <th>3</th>\n",
       "      <td>Nomós Kaválas kai Thásou [Kavala - Thasos]</td>\n",
       "      <td>Νομός Καβάλας και Θάσου</td>\n",
       "      <td>NUTS 3 Region</td>\n",
       "      <td>138770</td>\n",
       "      <td>139582</td>\n",
       "      <td>139393</td>\n",
       "      <td>134411</td>\n",
       "      <td>133391</td>\n",
       "      <td>→</td>\n",
       "    </tr>\n",
       "    <tr>\n",
       "      <th>4</th>\n",
       "      <td>Nomós Rodópis [Rhodope]</td>\n",
       "      <td>Νομός Ροδόπης</td>\n",
       "      <td>NUTS 3 Region</td>\n",
       "      <td>106252</td>\n",
       "      <td>110192</td>\n",
       "      <td>113244</td>\n",
       "      <td>111731</td>\n",
       "      <td>110666</td>\n",
       "      <td>→</td>\n",
       "    </tr>\n",
       "  </tbody>\n",
       "</table>\n",
       "</div>"
      ],
      "text/plain": [
       "                                                Name  \\\n",
       "0  Anatolikí Makedonía kai Thrakí [Eastern Macedo...   \n",
       "1                               Nomós Drámas [Drama]   \n",
       "2                                Nomós Évrou [Evros]   \n",
       "3         Nomós Kaválas kai Thásou [Kavala - Thasos]   \n",
       "4                            Nomós Rodópis [Rhodope]   \n",
       "\n",
       "                          Native         Status PopulationEstimate2002-01-01  \\\n",
       "0  Ανατολική Μακεδονία και Θράκη  NUTS 2 Region                       589489   \n",
       "1                   Νομός Δράμας  NUTS 3 Region                        96234   \n",
       "2                    Νομός Έβρου  NUTS 3 Region                       144134   \n",
       "3        Νομός Καβάλας και Θάσου  NUTS 3 Region                       138770   \n",
       "4                  Νομός Ροδόπης  NUTS 3 Region                       106252   \n",
       "\n",
       "  PopulationEstimate2007-01-01 PopulationEstimate2012-01-01  \\\n",
       "0                       602965                       612074   \n",
       "1                        97460                        98571   \n",
       "2                       146507                       147996   \n",
       "3                       139582                       139393   \n",
       "4                       110192                       113244   \n",
       "\n",
       "  PopulationEstimate2017-01-01 PopulationEstimate2019-01-01 Unnamed: 8  \n",
       "0                       602799                       599723          →  \n",
       "1                        96836                        96845          →  \n",
       "2                       147709                       147190          →  \n",
       "3                       134411                       133391          →  \n",
       "4                       111731                       110666          →  "
      ]
     },
     "execution_count": 43,
     "metadata": {},
     "output_type": "execute_result"
    }
   ],
   "source": [
    "datanew.head()"
   ]
  },
  {
   "cell_type": "markdown",
   "metadata": {},
   "source": [
    "Next we will keep only the 'Nuts 2 Region' status , delete some columns and extract the Region name inside the brackets."
   ]
  },
  {
   "cell_type": "code",
   "execution_count": 44,
   "metadata": {},
   "outputs": [],
   "source": [
    "data_Regions = datanew[datanew['Status'] == 'NUTS 2 Region']\n",
    "data_Regions = data_Regions.loc[:,'Name':'PopulationEstimate2019-01-01']\n",
    "data_Regions['Name'] = data_Regions['Name'].str.extract(r'\\[(\\w.+)\\]')\n",
    "data_Regions.rename(columns = {'Name':'Region'}, inplace = True) # change column name to merge later.\n"
   ]
  },
  {
   "cell_type": "markdown",
   "metadata": {},
   "source": [
    "Now let's combine the Dataframes and create some new columns."
   ]
  },
  {
   "cell_type": "code",
   "execution_count": 45,
   "metadata": {
    "scrolled": true
   },
   "outputs": [],
   "source": [
    "\n",
    "combined = data.merge(data_Regions, on=\"Region\", how=\"left\") # Combine the dataframes.\n",
    "\n",
    "combined['Cases_Analogy_Percent'] = combined['Cases'].astype(int)/combined['PopulationEstimate2019-01-01'].astype(int)*100\n",
    "combined['Deaths_Analogy_Percent'] = combined['Deaths'].astype(int)/combined['PopulationEstimate2019-01-01'].astype(int)*100\n",
    "combined['Cases_1 out of'] = round(100/combined['Cases_Analogy_Percent'])\n",
    "combined['Deaths_1 out of'] = round(100/combined['Deaths_Analogy_Percent'])\n",
    "\n",
    "\n"
   ]
  },
  {
   "cell_type": "markdown",
   "metadata": {},
   "source": [
    "Now let's plot the map."
   ]
  },
  {
   "cell_type": "code",
   "execution_count": 46,
   "metadata": {},
   "outputs": [],
   "source": [
    "fig = px.choropleth(combined,\n",
    "                    locations='id',\n",
    "                    geojson=greek_states,\n",
    "                    color='Cases_Analogy_Percent',\n",
    "                    hover_name = ('Native'),\n",
    "                    hover_data = ['Cases','Deaths'])\n",
    "fig.update_geos(fitbounds='locations',visible=False)\n",
    "fig.show()"
   ]
  },
  {
   "cell_type": "markdown",
   "metadata": {},
   "source": [
    "![Map_2](newplot2.png)"
   ]
  },
  {
   "cell_type": "markdown",
   "metadata": {},
   "source": [
    "The picture we now get is different. Northern Greece and especially Western Macedonia, seem to have a bigger problem with cases in proportion with their population. We weren't able to see that before, just by observing the absolute numbers.<br>\n",
    "Finally, here are some statistics regarding our data:"
   ]
  },
  {
   "cell_type": "code",
   "execution_count": 47,
   "metadata": {
    "scrolled": true
   },
   "outputs": [],
   "source": [
    "Overall_death_per_given_case = sum(combined['Deaths'].astype(int))/sum(combined['Cases'].astype(int))*100\n",
    "Overall_cases_percentage = sum(combined['Cases'].astype(int))/sum(combined['PopulationEstimate2019-01-01'].astype(int))*100\n",
    "Overall_death_percentage = sum(combined['Deaths'].astype(int))/sum(combined['PopulationEstimate2019-01-01'].astype(int))*100"
   ]
  },
  {
   "cell_type": "code",
   "execution_count": 51,
   "metadata": {},
   "outputs": [
    {
     "name": "stdout",
     "output_type": "stream",
     "text": [
      "In Greece, 1 in 43 dies from Covid, given they have Covid. This is a 2.34% percentage.\n",
      "Also, from the overall population, 1 in 847 has diagnosed with Covid. \n",
      "Finally 1 in 36,232 has died from Covid in Greece.\n"
     ]
    }
   ],
   "source": [
    "print('''In Greece, 1 in {} dies from Covid, given they have Covid. This is a {:.2f}% percentage.\n",
    "Also, from the overall population, 1 in {} has diagnosed with Covid. \\nFinally 1 in {:,} has died from Covid in Greece.'''.format(round(100/Overall_death_per_given_case),Overall_death_per_given_case,round(100/Overall_cases_percentage),round(100/Overall_death_percentage)))\n"
   ]
  },
  {
   "cell_type": "code",
   "execution_count": null,
   "metadata": {},
   "outputs": [],
   "source": []
  }
 ],
 "metadata": {
  "kernelspec": {
   "display_name": "Python 3",
   "language": "python",
   "name": "python3"
  },
  "language_info": {
   "codemirror_mode": {
    "name": "ipython",
    "version": 3
   },
   "file_extension": ".py",
   "mimetype": "text/x-python",
   "name": "python",
   "nbconvert_exporter": "python",
   "pygments_lexer": "ipython3",
   "version": "3.7.4"
  }
 },
 "nbformat": 4,
 "nbformat_minor": 2
}
